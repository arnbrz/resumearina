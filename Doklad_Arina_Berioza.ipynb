{
 "cells": [
  {
   "cell_type": "markdown",
   "metadata": {
    "id": "JmfwLAq1TyfQ"
   },
   "source": [
    "# **networkx**\n",
    "\n",
    "Networkx -  это библиотека на Python, которая позволяет создавать, исследовать и работать с графами и другими сетевыми структурами."
   ]
  },
  {
   "cell_type": "markdown",
   "metadata": {
    "id": "JtQVeNsgUXjy"
   },
   "source": [
    "# **Введение**\n",
    "**Зачем нужны эти библиотеки?**\n",
    "\n",
    "\n",
    "  **networkx**: Анализ и визуализация графов:\n",
    "Графы — это математические структуры, которые моделируют отношения между объектами. Библиотека networkx на Python позволяет эффективно работать с такими структурами. То есть она применяется для создания и анализа графов, таких как сети, маршруты, социальные графы и т.д.\n",
    "\n",
    " Основные возможности:\n",
    "\n",
    "\n",
    "## Типы графов\n",
    "\n",
    "  networkx поддерживает несколько типов графов:\n",
    "\n",
    "  *  Graph – реализация простого неориентированного графа, где между двумя вершинами допускается только одно ребро, но возможны петли (связь вершины с самой собой).\n",
    "  *  DiGraph — ориентированный граф, поддерживающий дополнительные функции и ограничения, характерные для направленных графов.\n",
    "  *  MultiGraph —  мультиграф, в котором между двумя вершинами может существовать несколько ненаправленных рёбер.\n",
    "  *  MultiDiGraph — соответственно ориентированный мультиграф."
   ]
  },
  {
   "cell_type": "code",
   "execution_count": 3,
   "metadata": {
    "id": "FRlqPcxPkEWy"
   },
   "outputs": [],
   "source": [
    "import networkx as nx #как подключать библиотеку"
   ]
  },
  {
   "cell_type": "code",
   "execution_count": 2,
   "metadata": {
    "id": "rGN3Jnp9X9MM"
   },
   "outputs": [],
   "source": [
    "G=nx.Graph() #неориентированный граф\n",
    "G=nx.DiGraph() #ориентированный граф\n",
    "G=nx.MultiGraph() #неориентированный мультиграф\n",
    "G=nx.MultiDiGraph() #ориентированный мультиграф"
   ]
  },
  {
   "cell_type": "markdown",
   "metadata": {
    "id": "yKSfsL2vLVtP"
   },
   "source": [
    "## Создание графов"
   ]
  },
  {
   "cell_type": "markdown",
   "metadata": {
    "id": "cEo_LQaGfbOc"
   },
   "source": [
    "  Можно создать граф через последовательное добавление узлов и дуг (об этом в следующем пункте подробнее)"
   ]
  },
  {
   "cell_type": "code",
   "execution_count": 3,
   "metadata": {
    "id": "VbxJqStUgj2q"
   },
   "outputs": [],
   "source": [
    "G = nx.Graph()\n",
    "G.add_node(\"A\")\n",
    "G.add_edge(\"A\", \"B\", weight=5)"
   ]
  },
  {
   "cell_type": "markdown",
   "metadata": {
    "id": "-uAhfOAbge0f"
   },
   "source": [
    "\n",
    "  Также граф можно создать так: загрузка данных и формирование графа на основе файла или потока данных одного из поддерживаемых форматов: Матрица смежности,\n",
    "  Матрица инцидентности, GEXF, GML, Pickle, GraphML, LEDA, YAML, SparseGraph6, Pajek, GIS Shapefile"
   ]
  },
  {
   "cell_type": "code",
   "execution_count": 4,
   "metadata": {
    "colab": {
     "base_uri": "https://localhost:8080/",
     "height": 287
    },
    "collapsed": true,
    "id": "h_SyeQyjghn7",
    "outputId": "f1cadc85-79fe-4af4-cebd-2a0fffa4180f"
   },
   "outputs": [
    {
     "ename": "FileNotFoundError",
     "evalue": "[Errno 2] No such file or directory: 'example.gml'",
     "output_type": "error",
     "traceback": [
      "\u001b[0;31m---------------------------------------------------------------------------\u001b[0m",
      "\u001b[0;31mFileNotFoundError\u001b[0m                         Traceback (most recent call last)",
      "\u001b[0;32m<ipython-input-4-939a57f4e60d>\u001b[0m in \u001b[0;36m<cell line: 1>\u001b[0;34m()\u001b[0m\n\u001b[0;32m----> 1\u001b[0;31m \u001b[0mG\u001b[0m \u001b[0;34m=\u001b[0m \u001b[0mnx\u001b[0m\u001b[0;34m.\u001b[0m\u001b[0mread_gml\u001b[0m\u001b[0;34m(\u001b[0m\u001b[0;34m\"example.gml\"\u001b[0m\u001b[0;34m)\u001b[0m\u001b[0;34m\u001b[0m\u001b[0;34m\u001b[0m\u001b[0m\n\u001b[0m",
      "\u001b[0;32m/usr/local/lib/python3.10/dist-packages/networkx/utils/decorators.py\u001b[0m in \u001b[0;36mfunc\u001b[0;34m(_argmap__wrapper, *args, **kwargs)\u001b[0m\n\u001b[1;32m    786\u001b[0m \u001b[0;34m\u001b[0m\u001b[0m\n\u001b[1;32m    787\u001b[0m         \u001b[0;32mdef\u001b[0m \u001b[0mfunc\u001b[0m\u001b[0;34m(\u001b[0m\u001b[0;34m*\u001b[0m\u001b[0margs\u001b[0m\u001b[0;34m,\u001b[0m \u001b[0m__wrapper\u001b[0m\u001b[0;34m=\u001b[0m\u001b[0;32mNone\u001b[0m\u001b[0;34m,\u001b[0m \u001b[0;34m**\u001b[0m\u001b[0mkwargs\u001b[0m\u001b[0;34m)\u001b[0m\u001b[0;34m:\u001b[0m\u001b[0;34m\u001b[0m\u001b[0;34m\u001b[0m\u001b[0m\n\u001b[0;32m--> 788\u001b[0;31m             \u001b[0;32mreturn\u001b[0m \u001b[0margmap\u001b[0m\u001b[0;34m.\u001b[0m\u001b[0m_lazy_compile\u001b[0m\u001b[0;34m(\u001b[0m\u001b[0m__wrapper\u001b[0m\u001b[0;34m)\u001b[0m\u001b[0;34m(\u001b[0m\u001b[0;34m*\u001b[0m\u001b[0margs\u001b[0m\u001b[0;34m,\u001b[0m \u001b[0;34m**\u001b[0m\u001b[0mkwargs\u001b[0m\u001b[0;34m)\u001b[0m\u001b[0;34m\u001b[0m\u001b[0;34m\u001b[0m\u001b[0m\n\u001b[0m\u001b[1;32m    789\u001b[0m \u001b[0;34m\u001b[0m\u001b[0m\n\u001b[1;32m    790\u001b[0m         \u001b[0;31m# standard function-wrapping stuff\u001b[0m\u001b[0;34m\u001b[0m\u001b[0;34m\u001b[0m\u001b[0m\n",
      "\u001b[0;32m/usr/local/lib/python3.10/dist-packages/networkx/utils/decorators.py\u001b[0m in \u001b[0;36margmap_read_gml_1\u001b[0;34m(path, label, destringizer, backend, **backend_kwargs)\u001b[0m\n\u001b[1;32m      1\u001b[0m \u001b[0;32mimport\u001b[0m \u001b[0mbz2\u001b[0m\u001b[0;34m\u001b[0m\u001b[0;34m\u001b[0m\u001b[0m\n\u001b[1;32m      2\u001b[0m \u001b[0;32mimport\u001b[0m \u001b[0mcollections\u001b[0m\u001b[0;34m\u001b[0m\u001b[0;34m\u001b[0m\u001b[0m\n\u001b[0;32m----> 3\u001b[0;31m \u001b[0;32mimport\u001b[0m \u001b[0mgzip\u001b[0m\u001b[0;34m\u001b[0m\u001b[0;34m\u001b[0m\u001b[0m\n\u001b[0m\u001b[1;32m      4\u001b[0m \u001b[0;32mimport\u001b[0m \u001b[0minspect\u001b[0m\u001b[0;34m\u001b[0m\u001b[0;34m\u001b[0m\u001b[0m\n\u001b[1;32m      5\u001b[0m \u001b[0;32mimport\u001b[0m \u001b[0mitertools\u001b[0m\u001b[0;34m\u001b[0m\u001b[0;34m\u001b[0m\u001b[0m\n",
      "\u001b[0;32m/usr/local/lib/python3.10/dist-packages/networkx/utils/decorators.py\u001b[0m in \u001b[0;36m_open_file\u001b[0;34m(path)\u001b[0m\n\u001b[1;32m    196\u001b[0m             \u001b[0;32mreturn\u001b[0m \u001b[0mpath\u001b[0m\u001b[0;34m,\u001b[0m \u001b[0;32mlambda\u001b[0m\u001b[0;34m:\u001b[0m \u001b[0;32mNone\u001b[0m\u001b[0;34m\u001b[0m\u001b[0;34m\u001b[0m\u001b[0m\n\u001b[1;32m    197\u001b[0m \u001b[0;34m\u001b[0m\u001b[0m\n\u001b[0;32m--> 198\u001b[0;31m         \u001b[0mfobj\u001b[0m \u001b[0;34m=\u001b[0m \u001b[0m_dispatch_dict\u001b[0m\u001b[0;34m[\u001b[0m\u001b[0mext\u001b[0m\u001b[0;34m]\u001b[0m\u001b[0;34m(\u001b[0m\u001b[0mpath\u001b[0m\u001b[0;34m,\u001b[0m \u001b[0mmode\u001b[0m\u001b[0;34m=\u001b[0m\u001b[0mmode\u001b[0m\u001b[0;34m)\u001b[0m\u001b[0;34m\u001b[0m\u001b[0;34m\u001b[0m\u001b[0m\n\u001b[0m\u001b[1;32m    199\u001b[0m         \u001b[0;32mreturn\u001b[0m \u001b[0mfobj\u001b[0m\u001b[0;34m,\u001b[0m \u001b[0;32mlambda\u001b[0m\u001b[0;34m:\u001b[0m \u001b[0mfobj\u001b[0m\u001b[0;34m.\u001b[0m\u001b[0mclose\u001b[0m\u001b[0;34m(\u001b[0m\u001b[0;34m)\u001b[0m\u001b[0;34m\u001b[0m\u001b[0;34m\u001b[0m\u001b[0m\n\u001b[1;32m    200\u001b[0m \u001b[0;34m\u001b[0m\u001b[0m\n",
      "\u001b[0;31mFileNotFoundError\u001b[0m: [Errno 2] No such file or directory: 'example.gml'"
     ]
    }
   ],
   "source": [
    "G = nx.read_gml(\"example.gml\")"
   ]
  },
  {
   "cell_type": "markdown",
   "metadata": {
    "id": "TQO0b-nOgipI"
   },
   "source": [
    "И третий вариант создания графов: через генератор графов, который предоставляет предустановленные классы для создания графов с распространёнными топологиями, включая полные графы различных порядков, сбалансированные деревья, циклические графы, графы Дороговцева — Гольтцева — Мендеса, случайные биномиальные графы и множество других типов."
   ]
  },
  {
   "cell_type": "code",
   "execution_count": 5,
   "metadata": {
    "id": "-h5GkKgqw2fz"
   },
   "outputs": [],
   "source": [
    "G = nx.cycle_graph(5)"
   ]
  },
  {
   "cell_type": "markdown",
   "metadata": {
    "id": "GzaAY7UKcv6X"
   },
   "source": [
    "##   Добавление узлов и рёбер:\n"
   ]
  },
  {
   "cell_type": "markdown",
   "metadata": {
    "id": "sqIX89fYyFN2"
   },
   "source": [
    "### Надо сказать, что узлами графа может быть что угодно: числа, строки, кортежи, изображение, другой граф и т.д."
   ]
  },
  {
   "cell_type": "code",
   "execution_count": 8,
   "metadata": {
    "colab": {
     "base_uri": "https://localhost:8080/"
    },
    "id": "Lw_0CcywxPY_",
    "outputId": "644fa57e-9681-49ea-f21c-609dbf0b037a"
   },
   "outputs": [
    {
     "name": "stdout",
     "output_type": "stream",
     "text": [
      "['A', 'B', 'C', 'D', 'E']\n"
     ]
    }
   ],
   "source": [
    "G.add_node(\"A\")  # добавить узел \"A\"\n",
    "G.add_nodes_from([\"B\", \"C\", \"D\"])  # добавить узлы \"B\", \"C\" и \"D\"\n",
    "G.add_node(\"E\", role=\"manager\", age=40)  # yзел с атрибутами\n",
    "\n",
    "H = nx.path_graph(10)\n",
    "G.add_nodes_from(H) # G теперь содержит узлы H как узлы G\n",
    "G.add_node(H) # тут граф H как узел графа G\n",
    "\n",
    "print(G.nodes)  # NodeView(('A', 'B', 'C', 'D', 'E'))\n",
    "print(G.nodes[\"E\"][\"role\"])  # manager\n",
    "G.nodes[\"E\"][\"age\"] = 41  # Изменить возраст\n",
    "G.remove_node(\"D\")  # Удалить узел \"D\""
   ]
  },
  {
   "cell_type": "markdown",
   "metadata": {
    "id": "9lgYXHYYxTjW"
   },
   "source": [
    "### Ребра:"
   ]
  },
  {
   "cell_type": "code",
   "execution_count": 45,
   "metadata": {
    "colab": {
     "base_uri": "https://localhost:8080/"
    },
    "collapsed": true,
    "id": "OHXxopA-xU8z",
    "outputId": "6ac3a4c3-0cf0-4335-8b77-dc597c3fcc10"
   },
   "outputs": [
    {
     "name": "stdout",
     "output_type": "stream",
     "text": [
      "[(0, 1), (1, 2), (1, 3), (2, 3), (2, 5), (2, 7), (2, 8), (2, 9), (3, 4), (3, 5), (3, 8), (3, 9), (4, 5), (4, 6), (4, 7), (4, 9), (5, 6), (6, 7), (7, 9), ('A', 'B'), ('A', 'E'), ('B', 'C'), ('C', 'E')]\n",
      "3.5\n"
     ]
    }
   ],
   "source": [
    "G.add_edge(\"A\", \"B\")  # Ребро между \"A\" и \"B\"\n",
    "G.add_edges_from([(\"B\", \"C\"), (\"C\", \"E\")])  # Добавить рёбра\n",
    "G.add_edge(\"A\", \"E\", weight=3.5, label=\"connection\")\n",
    "\n",
    "print(G.edges)  # EdgeView([('A', 'B'), ('A', 'E'), ('B', 'C'), ('C', 'E')])\n",
    "print(G.edges[\"A\", \"E\"][\"weight\"])  # 3.5\n",
    "G.edges[\"A\", \"E\"][\"weight\"] = 4.0 #изменяем данные ребра\n",
    "G.remove_edge(\"B\", \"C\") # удаление ребра"
   ]
  },
  {
   "cell_type": "markdown",
   "metadata": {
    "id": "LskZOIP1j27p"
   },
   "source": [
    "### Пример работы с ребрами и вершинами. Анализ дружбы"
   ]
  },
  {
   "cell_type": "code",
   "execution_count": 4,
   "metadata": {
    "colab": {
     "base_uri": "https://localhost:8080/"
    },
    "id": "IGCVShf2j68e",
    "outputId": "d9854259-0156-462c-a74b-ccf4d7c8de03"
   },
   "outputs": [
    {
     "name": "stdout",
     "output_type": "stream",
     "text": [
      "Друзья Alice: ['Bob', 'Charlie']\n",
      "Дружба Alice и Bob длится 5 лет.\n"
     ]
    }
   ],
   "source": [
    "G = nx.Graph()\n",
    "\n",
    "G.add_node(\"Alice\", age=25, job=\"developer\")\n",
    "G.add_node(\"Bob\", age=30, job=\"designer\")\n",
    "G.add_node(\"Charlie\", age=35, job=\"manager\")\n",
    "\n",
    "G.add_edge(\"Alice\", \"Bob\", friendship_years=5)\n",
    "G.add_edge(\"Alice\", \"Charlie\", friendship_years=2)\n",
    "G.add_edge(\"Bob\", \"Charlie\", friendship_years=8)\n",
    "\n",
    "friends = list(G.neighbors(\"Alice\"))\n",
    "print(f\"Друзья Alice: {friends}\")\n",
    "\n",
    "print(f\"Дружба Alice и Bob длится {G.edges['Alice', 'Bob']['friendship_years']} лет.\")"
   ]
  },
  {
   "cell_type": "markdown",
   "metadata": {
    "id": "6zv51t3IuWkn"
   },
   "source": [
    "Для работы с графами большой размерности лучше использовать итераторы"
   ]
  },
  {
   "cell_type": "code",
   "execution_count": null,
   "metadata": {
    "id": "FfaVv7mCuaDz"
   },
   "outputs": [],
   "source": [
    "# Генерация всех узлов без их хранения в памяти\n",
    "for node in G.nodes:\n",
    "    print(node)\n",
    "\n",
    "# Генерация рёбер\n",
    "for u, v in G.edges:\n",
    "    print(f\"Ребро между {u} и {v}\")"
   ]
  },
  {
   "cell_type": "markdown",
   "metadata": {
    "id": "4sh4lWbpsh59"
   },
   "source": [
    "## Анализ графа\n",
    "Для анализа структуры графа в NetworkX доступны удобные инструменты для работы с узлами, рёбрами и их характеристиками. Четыре основных свойства графа предоставляют доступ к ключевым элементам графа:\n",
    "\n",
    "* G.nodes: Узлы графа и их атрибуты.\n",
    "* G.edges: Рёбра графа и их атрибуты.\n",
    "* G.adj: Соседние узлы для каждого узла.\n",
    "* G.degree: Количество рёбер, инцидентных узлу (степень узла).\n",
    "\n",
    "Эти свойства работают как представления (views), которые автоматически обновляются при изменении графа. Кроме того, они напоминают словари, позволяя обращаться к данным узлов и рёбер."
   ]
  },
  {
   "cell_type": "code",
   "execution_count": null,
   "metadata": {
    "id": "vySVpsRQsunD"
   },
   "outputs": [],
   "source": [
    "import networkx as nx\n",
    "\n",
    "G = nx.Graph()\n",
    "G.add_edge(1, 2)\n",
    "G.add_edge(1, 3)\n",
    "G.add_edge(3, \"spam\")\n",
    "\n",
    "print(list(G.nodes))  # [1, 2, 3, 'spam']\n",
    "print(list(G.edges))  # [(1, 2), (1, 3), (3, 'spam')]\n",
    "print(list(G.adj[1]))  # [2, 3]\n",
    "print(list(G.neighbors(1)))  # [2, 3]\n",
    "print(G.degree[1])  # 2 (узел 1 соединён с 2 другими узлами)\n",
    "print(list(G.edges([2, \"spam\"])))  # [(2, 1), ('spam', 3)]\n",
    "print(G.degree([2, 3]))  # DegreeView({2: 1, 3: 2})"
   ]
  },
  {
   "cell_type": "code",
   "execution_count": 5,
   "metadata": {
    "colab": {
     "base_uri": "https://localhost:8080/"
    },
    "id": "vGxbhG3otEWR",
    "outputId": "a9efe673-0b68-48ca-9657-60151a1b2fbb"
   },
   "outputs": [
    {
     "name": "stdout",
     "output_type": "stream",
     "text": [
      "{'role': 'manager', 'age': 40}\n",
      "manager\n",
      "{'weight': 2.5, 'label': 'connection'}\n",
      "2.5\n"
     ]
    }
   ],
   "source": [
    "# Узлы можно рассматривать как словарь\n",
    "G.add_node(1, role=\"manager\", age=40)\n",
    "print(G.nodes[1])  # {'role': 'manager', 'age': 40}\n",
    "print(G.nodes[1][\"role\"])  # manager\n",
    "\n",
    "# Для каждого ребра можно задавать и изменять атрибуты\n",
    "\n",
    "G.add_edge(1, 3, weight=2.5, label=\"connection\")\n",
    "print(G.edges[1, 3])  # {'weight': 2.5, 'label': 'connection'}\n",
    "print(G.edges[1, 3][\"weight\"])  # 2.5\n",
    "\n",
    "# Изменение атрибута\n",
    "G.edges[1, 3][\"weight\"] = 3.0\n"
   ]
  },
  {
   "cell_type": "markdown",
   "metadata": {
    "id": "CDUUvIGuux7m"
   },
   "source": [
    "Граф можно представлять через другие типы данных:"
   ]
  },
  {
   "cell_type": "code",
   "execution_count": null,
   "metadata": {
    "id": "YbypULTMtMrD"
   },
   "outputs": [],
   "source": [
    "# список\n",
    "print(list(G.nodes))  # [1, 2, 3, 'spam']\n",
    "print(list(G.edges))  # [(1, 2), (1, 3), (3, 'spam')]\n",
    "\n",
    "# множество\n",
    "print(set(G.edges))  # {('spam', 3), (1, 2), (1, 3)}\n",
    "\n",
    "# словарь\n",
    "print(dict(G.degree))  # {1: 2, 2: 1, 3: 2, 'spam': 1}"
   ]
  },
  {
   "cell_type": "markdown",
   "metadata": {
    "id": "icB_3QLcvUEc"
   },
   "source": [
    "## Алгоритмы для анализа графов\n",
    "\n",
    " networkx включает множество алгоритмов для анализа графов. Рассмотрим ключевые из них:"
   ]
  },
  {
   "cell_type": "code",
   "execution_count": null,
   "metadata": {
    "id": "SraSvvI7vTdt"
   },
   "outputs": [],
   "source": [
    "# алгоритм Дейкстры\n",
    "path = nx.shortest_path(G, source=\"A\", target=\"B\", weight=\"weight\")\n",
    "print(path)  # ['A', 'B']\n",
    "\n",
    "# Центральность узлов\n",
    "centrality = nx.degree_centrality(G)\n",
    "print(centrality)\n",
    "\n",
    "# Обнаружение групп связанных узлов:\n",
    "components = list(nx.connected_components(G))\n",
    "print(components)"
   ]
  },
  {
   "cell_type": "markdown",
   "metadata": {
    "id": "6f7poAgQ96ea"
   },
   "source": [
    "## Давайте подробнее про генераторы\n",
    "\n",
    "Библиотека NetworkX помогает легко создавать и изменять графы. С ее помощью можно быстро строить графы и проводить с ними разные операции."
   ]
  },
  {
   "cell_type": "markdown",
   "metadata": {
    "id": "2_IgYzoT-0Tx"
   },
   "source": [
    "### Операции над графами:"
   ]
  },
  {
   "cell_type": "code",
   "execution_count": 6,
   "metadata": {
    "id": "MNXAuhSd-QI5"
   },
   "outputs": [],
   "source": [
    "sub = nx.subgraph(G, [1, 2, 3]) # создает подграф на основе указанных узлов\n",
    "\n",
    "G_union = nx.union(G1, G2) # объединяет два графа, сохраняя их узлы и рёбра\n",
    "\n",
    "G_product = nx.cartesian_product(G1, G2) # возвращает декартово произведение двух графов\n",
    "\n",
    "G_complement = nx.complement(G) # возвращает дополнение графа (узлы соединяются, если ранее они не были связаны).\n",
    "\n",
    "G_undirected = nx.to_undirected(G) # создает неориентированный вид графа\n",
    "\n",
    "G_directed = nx.to_directed(G) # создает ориентированный вид графа\n"
   ]
  },
  {
   "cell_type": "markdown",
   "metadata": {
    "id": "QMSRkCW4-2Zm"
   },
   "source": [
    "### Классические малые графы:"
   ]
  },
  {
   "cell_type": "code",
   "execution_count": null,
   "metadata": {
    "id": "WaiRCwfB-5Eq"
   },
   "outputs": [],
   "source": [
    "petersen = nx.petersen_graph() # Граф Петерсона\n",
    "tutte = nx.tutte_graph() # Граф Тутте\n",
    "tetrahedral = nx.tetrahedral_graph() # тетраэдрический граф"
   ]
  },
  {
   "cell_type": "markdown",
   "metadata": {
    "id": "hD4QsN1M_iEo"
   },
   "source": [
    "### Использование (конструктивного) генератора для классического графа:"
   ]
  },
  {
   "cell_type": "code",
   "execution_count": null,
   "metadata": {
    "id": "QoIEJuVU_ji_"
   },
   "outputs": [],
   "source": [
    "K_5 = nx.complete_graph(5) # полный граф\n",
    "K_3_5 = nx.complete_bipartite_graph(3, 5) # двудольный граф\n",
    "barbell = nx.barbell_graph(10, 10) # граф-гиря, две полные части соединены дорожкой\n",
    "lollipop = nx.lollipop_graph(10, 20) # граф-леденец, полный граф соединен с цепью"
   ]
  },
  {
   "cell_type": "markdown",
   "metadata": {
    "id": "uYojdKP3AGt6"
   },
   "source": [
    "### Стохастические генераторы графов\n",
    "\n",
    "(Эти генераторы создают случайные графы, используя заданные вероятности и параметры)"
   ]
  },
  {
   "cell_type": "code",
   "execution_count": null,
   "metadata": {
    "id": "72fHOqoVALyj"
   },
   "outputs": [],
   "source": [
    "er = nx.erdos_renyi_graph(100, 0.15) # случайный граф Эрдиша-Реньи, где p — вероятность наличия ребра между узлами.\n",
    "ws = nx.watts_strogatz_graph(30, 3, 0.1) # граф Уоттса-Строгаца для моделирования сетей \"мир тесен\".\n",
    "ba = nx.barabasi_albert_graph(100, 5) # граф Барабаши-Альберта\n",
    "lobster = nx.random_lobster(100, 0.9, 0.9) # случайный граф-омар с заданными вероятностями"
   ]
  },
  {
   "cell_type": "markdown",
   "metadata": {
    "id": "K4jSm30yEKjg"
   },
   "source": [
    "## Бэкенды\n",
    "\n",
    "NetworkX позволяет ускорить работу с графами, если использовать бэкенды — это специальные дополнения, которые делают NetworkX мощнее. Они добавляют возможности, такие как работа на видеокартах (GPU), параллельные вычисления или интеграция с графовыми базами данных.\n",
    "\n",
    "Зачем они нужны?\n",
    "\n",
    "Представьте, что вы рисуете карту с дорогами. Если дорог много, вам понадобится больше времени, чтобы всё рассчитать. Бэкенды помогают ускорить процесс за счёт современных технологий:\n",
    "\n",
    "* GPU (видеокарта) работает быстрее для больших графов.\n",
    "* Многопоточность распределяет задачи между процессорами.\n",
    "* Базы данных хранят огромные графы и позволяют быстро их обновлять.\n",
    "\n",
    "Как использовать бэкенды?\n",
    "Есть два способа:\n",
    "\n",
    "1. Автоматическая настройка\n",
    "Вы просто включаете нужный бэкенд, и NetworkX сам решает, как лучше использовать его.\n",
    "\n",
    "2. Ручная настройка\n",
    "Вы точно указываете, какой бэкенд использовать для каждой задачи.\n"
   ]
  },
  {
   "cell_type": "code",
   "execution_count": null,
   "metadata": {
    "id": "g4CiE76DFC0z"
   },
   "outputs": [],
   "source": [
    "# Автоматическая настройка\n",
    "\n",
    "# Создаём граф, например, социальную сеть\n",
    "G = nx.erdos_renyi_graph(1000, 0.01)\n",
    "\n",
    "# Указываем NetworkX использовать GPU-бэкенд\n",
    "nx.config.backend_priority = [\"gpu_backend\"]\n",
    "\n",
    "# Выполняем сложный расчёт, например, PageRank\n",
    "pr = nx.pagerank(G)\n",
    "\n",
    "print(\"PageRank рассчитан с использованием GPU.\")"
   ]
  },
  {
   "cell_type": "code",
   "execution_count": null,
   "metadata": {
    "id": "hHsjHUKrFI8Y"
   },
   "outputs": [],
   "source": [
    "# Ручная настройка\n",
    "\n",
    "# Читаем граф из файла, используя базу данных\n",
    "G = nx.read_gml(\"mygraph.gml\", backend=\"database_backend\")\n",
    "\n",
    "# Считаем степень каждого узла\n",
    "degree_dict = dict(G.degree)\n",
    "\n",
    "print(\"Данные обработаны через базу данных.\")"
   ]
  },
  {
   "cell_type": "markdown",
   "metadata": {
    "id": "eytRlbISFUZf"
   },
   "source": [
    "Как работают бэкенды?\n",
    "Когда вы включаете бэкенд, NetworkX проверяет:\n",
    "\n",
    "Есть ли поддержка нужной функции в бэкенде?\n",
    "Если есть, выполняется оптимизированный код.\n",
    "\n",
    "Если поддержки нет, что делать?\n",
    "NetworkX возвращается к стандартным алгоритмам."
   ]
  },
  {
   "cell_type": "markdown",
   "metadata": {
    "id": "WT3X3FfiGJBk"
   },
   "source": [
    "## Визуализация графов\n",
    "\n",
    "Визуализация графов в этой библиотеке вторична, но реализована. Предоставлены удобные методы для отображения графов с использованием Python библиотеки Matplotlib или внешнего модуля Graphviz для боле сложных случаев.\n",
    "\n",
    "### Основные методы визуализации\n",
    "* nx.draw()\n",
    "\n",
    "Это базовая функция для визуализации графов. Она автоматически размещает узлы и рисует рёбра.\n",
    "\n",
    "* nx.draw_networkx()\n",
    "\n",
    "Расширенная версия draw(), которая позволяет подписывать узлы и добавлять больше стилей.\n",
    "\n",
    "* Другие варианты расположения узлов\n",
    "\n",
    "nx.draw_circular() — узлы располагаются по кругу.\n",
    "\n",
    "nx.draw_spectral() — узлы располагаются на основе спектральных свойств графа.\n",
    "\n",
    "nx.draw_shell() — узлы группируются в \"оболочки\".\n",
    "\n",
    "nx.draw_spring() — узлы имитируют пружины, стремясь к сбалансированному положению."
   ]
  },
  {
   "cell_type": "code",
   "execution_count": 11,
   "metadata": {
    "colab": {
     "base_uri": "https://localhost:8080/",
     "height": 516
    },
    "id": "M9jgK9WzHyL1",
    "outputId": "ee19c0b2-7196-4907-a8a3-0a102f1eb58f"
   },
   "outputs": [
    {
     "data": {
      "image/png": "[encoded data removed]",
      "text/plain": [
       "<Figure size 640x480 with 1 Axes>"
      ]
     },
     "metadata": {},
     "output_type": "display_data"
    }
   ],
   "source": [
    "\n",
    "import matplotlib.pyplot as plt\n",
    "\n",
    "# Создаём граф\n",
    "G = nx.Graph()\n",
    "G.add_edges_from([(\"A\", \"B\"), (\"B\", \"C\"), (\"C\", \"D\"), (\"D\", \"A\"), (\"A\", \"C\")])\n",
    "\n",
    "# Настройки узлов и рёбер\n",
    "node_colors = [\"red\", \"blue\", \"green\", \"orange\"]\n",
    "edge_colors = [\"gray\", \"black\", \"pink\", \"purple\", \"cyan\"]\n",
    "node_sizes = [500, 700, 900, 1100]\n",
    "\n",
    "# Рисуем граф с кастомизацией\n",
    "nx.draw(\n",
    "    G,\n",
    "    with_labels=True,\n",
    "    node_color=node_colors,\n",
    "    edge_color=edge_colors,\n",
    "    node_size=node_sizes,\n",
    "    font_size=14,\n",
    "    font_color=\"white\",\n",
    ")\n",
    "plt.show()\n"
   ]
  },
  {
   "cell_type": "markdown",
   "metadata": {
    "id": "yrQUSoXHHw9V"
   },
   "source": [
    "А также networkx позволяет сохранять визуализации графов в файлы\n",
    "\n",
    "Для сохранения рисунка графа используется функция plt.savefig()."
   ]
  },
  {
   "cell_type": "code",
   "execution_count": null,
   "metadata": {
    "id": "1CLsXgJpIvYY"
   },
   "outputs": [],
   "source": [
    "nx.draw(G, with_labels=True)\n",
    "plt.savefig(\"graph.png\")\n"
   ]
  },
  {
   "cell_type": "markdown",
   "metadata": {
    "id": "_JFAyGk9Iv_h"
   },
   "source": [
    "Для экспорта графа в текстовый формат DOT используется write_dot.\n"
   ]
  },
  {
   "cell_type": "code",
   "execution_count": null,
   "metadata": {
    "id": "iRa8L7XvIzDs"
   },
   "outputs": [],
   "source": [
    "from networkx.drawing.nx_pydot import write_dot\n",
    "write_dot(G, \"graph.dot\")"
   ]
  },
  {
   "cell_type": "markdown",
   "metadata": {
    "id": "ch76AKcML-Me"
   },
   "source": [
    "## Примеры:"
   ]
  },
  {
   "cell_type": "markdown",
   "metadata": {
    "id": "gkrViIsCMHFw"
   },
   "source": [
    "### Транспортная сеть"
   ]
  },
  {
   "cell_type": "code",
   "execution_count": 24,
   "metadata": {
    "colab": {
     "base_uri": "https://localhost:8080/",
     "height": 551
    },
    "id": "QZXEutpAMIzg",
    "outputId": "79b2ff25-58d5-48c0-a7bf-0bcc814baa7f"
   },
   "outputs": [
    {
     "data": {
      "image/png": "[encoded data removed]",
      "text/plain": [
       "<Figure size 640x480 with 1 Axes>"
      ]
     },
     "metadata": {},
     "output_type": "display_data"
    },
    {
     "name": "stdout",
     "output_type": "stream",
     "text": [
      "Кратчайший путь: ['Аэропорт', 'Центр', 'Парк', 'Музей']\n",
      "Расстояние: 55 минут\n"
     ]
    }
   ],
   "source": [
    "# создаем граф\n",
    "city_map = nx.DiGraph()\n",
    "city_map.add_weighted_edges_from([\n",
    "    (\"Аэропорт\", \"Центр\", 30),\n",
    "    (\"Центр\", \"Парк\", 10),\n",
    "    (\"Аэропорт\", \"Университет\", 40),\n",
    "    (\"Университет\", \"Парк\", 20),\n",
    "    (\"Парк\", \"Музей\", 15),\n",
    "])\n",
    "\n",
    "# визуализация\n",
    "import matplotlib.pyplot as plt\n",
    "nx.draw(city_map, with_labels=True, node_color='skyblue', font_weight='bold')\n",
    "plt.show()\n",
    "\n",
    "# поиск кратчайшего пути\n",
    "source = \"Аэропорт\"\n",
    "destination = \"Музей\"\n",
    "path = nx.shortest_path(city_map, source=source, target=destination, weight=\"weight\")\n",
    "distance = nx.shortest_path_length(city_map, source=source, target=destination, weight=\"weight\")\n",
    "\n",
    "print(f\"Кратчайший путь: {path}\")\n",
    "print(f\"Расстояние: {distance} минут\")\n"
   ]
  },
  {
   "cell_type": "markdown",
   "metadata": {
    "id": "uqreH4v3MmKD"
   },
   "source": [
    "### Расчет кэшбека по графу"
   ]
  },
  {
   "cell_type": "code",
   "execution_count": 23,
   "metadata": {
    "colab": {
     "base_uri": "https://localhost:8080/"
    },
    "id": "D1403VaOMps9",
    "outputId": "6fbecc66-7648-48ea-b349-30c5003b6281"
   },
   "outputs": [
    {
     "name": "stdout",
     "output_type": "stream",
     "text": [
      "Оптимальная последовательность: ['Пополнение карты', 'Оплата онлайн', 'Кешбэк']\n",
      "Максимальный кешбэк: 4.5%\n"
     ]
    }
   ],
   "source": [
    "# строим граф операций\n",
    "bank_operations = nx.DiGraph()\n",
    "bank_operations.add_weighted_edges_from([\n",
    "    (\"Пополнение карты\", \"Покупка в магазине\", 2),\n",
    "    (\"Покупка в магазине\", \"Кешбэк\", 1),\n",
    "    (\"Пополнение карты\", \"Оплата онлайн\", 3),\n",
    "    (\"Оплата онлайн\", \"Кешбэк\", 1.5),\n",
    "])\n",
    "\n",
    "# находим путь с максимальным кешбэком\n",
    "path = nx.dag_longest_path(bank_operations, weight=\"weight\")\n",
    "max_cashback = nx.dag_longest_path_length(bank_operations, weight=\"weight\")\n",
    "\n",
    "print(f\"Оптимальная последовательность: {path}\")\n",
    "print(f\"Максимальный кешбэк: {max_cashback}%\")\n"
   ]
  },
  {
   "cell_type": "markdown",
   "metadata": {
    "id": "u_RB8qS-NcGU"
   },
   "source": [
    "## Распространение инфекции"
   ]
  },
  {
   "cell_type": "code",
   "execution_count": 22,
   "metadata": {
    "colab": {
     "base_uri": "https://localhost:8080/",
     "height": 690
    },
    "id": "dxDYem5KNeaa",
    "outputId": "0dc84e26-cee6-4c17-a2ec-2a740e66a57a"
   },
   "outputs": [
    {
     "name": "stdout",
     "output_type": "stream",
     "text": [
      "Шаг 1: заражено 2 человек\n",
      "Шаг 2: заражено 3 человек\n",
      "Шаг 3: заражено 4 человек\n",
      "Шаг 4: заражено 5 человек\n",
      "Шаг 5: заражено 8 человек\n",
      "Шаг 6: заражено 9 человек\n",
      "Шаг 7: заражено 9 человек\n",
      "Шаг 8: заражено 10 человек\n",
      "Шаг 9: заражено 10 человек\n",
      "Шаг 10: заражено 10 человек\n"
     ]
    },
    {
     "data": {
      "image/png": "[encoded data removed]",
      "text/plain": [
       "<Figure size 640x480 with 1 Axes>"
      ]
     },
     "metadata": {},
     "output_type": "display_data"
    }
   ],
   "source": [
    "import random\n",
    "\n",
    "# создаем граф\n",
    "G = nx.erdos_renyi_graph(10, 0.3)\n",
    "\n",
    "# инициализируем состояния\n",
    "states = {node: 'S' for node in G.nodes}  # все здоровы\n",
    "patient_zero = random.choice(list(G.nodes))  # случайный человек заражен\n",
    "states[patient_zero] = 'I'  # этот человек заражен\n",
    "\n",
    "# симуляция распространения инфекции\n",
    "def spread_infection(G, states, infection_prob=0.3):\n",
    "    new_states = states.copy()\n",
    "    for node in G.nodes:\n",
    "        if states[node] == 'I':  # если человек заражен\n",
    "            for neighbor in G.neighbors(node):\n",
    "                if states[neighbor] == 'S' and random.random() < infection_prob:\n",
    "                    new_states[neighbor] = 'I'  # заражаем соседа\n",
    "    return new_states\n",
    "\n",
    "# степени заражения в течение 10 шагов\n",
    "for step in range(10):\n",
    "    states = spread_infection(G, states)\n",
    "    infected = sum(1 for state in states.values() if state == 'I')\n",
    "    print(f\"Шаг {step+1}: заражено {infected} человек\")\n",
    "\n",
    "# визуализизируем граф\n",
    "pos = nx.spring_layout(G)\n",
    "node_colors = ['red' if states[node] == 'I' else 'green' for node in G.nodes]\n",
    "nx.draw(G, pos, with_labels=True, node_color=node_colors, font_weight='bold', node_size=1000)\n",
    "plt.show()\n"
   ]
  },
  {
   "cell_type": "markdown",
   "metadata": {
    "id": "aO1JQh3rOK_R"
   },
   "source": [
    "# Graphlib"
   ]
  },
  {
   "cell_type": "markdown",
   "metadata": {
    "id": "Ud1qqrOAQfuC"
   },
   "source": [
    "## Что такое Graphlib?\n",
    "\n",
    "Graphlib — библиотека для выполнения топологической сортировки — линейного упорядочивания вершин графа, при котором для каждого ребра (u -> v) вершина u предшествует вершине v. Используется в задачах планирования (например, порядок выполнения задач). Полное топологическое упорядочение возможно лишь в том случае, если граф является направленным ациклическим графом, то есть если в нем отсутствуют направленные циклы.\n",
    "\n",
    "Шаги, необходимые для выполнения сортировки заданного графа:\n",
    "\n",
    "\n",
    "1.   Создать экземпляр TopologicalSorter с необязательным начальными графом.\n",
    "2.   Добавить дополнительные узлы в граф.\n",
    "3.   Вызвать метод prepare() для графа\n",
    "4.   Пока is_active() возвращает True, перебирать узлы, возвращаемые методом get_ready(), и обрабатывать их. После завершения обработки вызвать метод done() для каждого узла.\n",
    "\n",
    "Но, если нужно просто отсортировать узлы в графе прямо сейчас и не важно, чтобы это происходило одновременно, вы можете сразу использовать метод TopologicalSorter.static_order().\n",
    "\n",
    "Пример:"
   ]
  },
  {
   "cell_type": "code",
   "execution_count": 25,
   "metadata": {
    "colab": {
     "base_uri": "https://localhost:8080/"
    },
    "id": "3hgBe-yee353",
    "outputId": "4205c966-aefb-4c0a-8b87-192702117e94"
   },
   "outputs": [
    {
     "name": "stdout",
     "output_type": "stream",
     "text": [
      "Порядок изучения материала: ('Изучение лекций', 'Решение практических заданий', 'Повторение материала', 'Сдача экзамена')\n"
     ]
    }
   ],
   "source": [
    "from graphlib import TopologicalSorter #импортируем\n",
    "\n",
    "# создаем граф зависимостей в курсе обучения\n",
    "learning_path = {\n",
    "    \"Сдача экзамена\": {\"Повторение материала\"},\n",
    "    \"Повторение материала\": {\"Изучение лекций\", \"Решение практических заданий\"},\n",
    "    \"Решение практических заданий\": {\"Изучение лекций\"},\n",
    "    \"Изучение лекций\": set()\n",
    "}\n",
    "\n",
    "# выполняем топологическую сортировку\n",
    "sorter = TopologicalSorter(learning_path)\n",
    "order = tuple(sorter.static_order())\n",
    "print(\"Порядок изучения материала:\", order)"
   ]
  },
  {
   "cell_type": "markdown",
   "metadata": {
    "id": "g3a7Lsx-e3hS"
   },
   "source": [
    "## Особенности"
   ]
  },
  {
   "cell_type": "markdown",
   "metadata": {
    "id": "KeX53tKLfPyf"
   },
   "source": [
    "### Хэшируемость узлов и зависимостей\n",
    "Все узлы и предшественники в графе должны быть хэшируемыми (строки, числа, кортежи). Это нужно для того, чтобы библиотека могла правильно добавлять элементы и эффективно с ними работать. Если попробовать использовать объекты, которые нельзя захэшировать, такие как списки или словари, то это приведет к ошибке.\n",
    "\n",
    "### Добавление узлов и предшественников"
   ]
  },
  {
   "cell_type": "code",
   "execution_count": 26,
   "metadata": {
    "colab": {
     "base_uri": "https://localhost:8080/"
    },
    "id": "e3A0bsQIgvdu",
    "outputId": "247adb12-88a1-4bd4-9c49-72e779d0bbd5"
   },
   "outputs": [
    {
     "name": "stdout",
     "output_type": "stream",
     "text": [
      "Порядок выполнения задач: ('A', 'B', 'C', 'D')\n"
     ]
    }
   ],
   "source": [
    "sorter = TopologicalSorter()\n",
    "sorter.add(\"B\", \"A\")  # B зависит от A\n",
    "sorter.add(\"C\", \"A\")  # C зависит от A\n",
    "sorter.add(\"D\", \"B\", \"C\")  # D зависит от B и C\n",
    "\n",
    "# вычисляем порядок выполнения\n",
    "order = tuple(sorter.static_order())\n",
    "print(\"Порядок выполнения задач:\", order)\n"
   ]
  },
  {
   "cell_type": "markdown",
   "metadata": {
    "id": "G6XV4ak9i0dQ"
   },
   "source": [
    "### Подготовка графов\n",
    "Метод prepare() выполняет финальную проверку графа, включая поиск циклов. Если цикл обнаружен, выбрасывается CycleError"
   ]
  },
  {
   "cell_type": "code",
   "execution_count": null,
   "metadata": {
    "id": "GBg789cVi6wm"
   },
   "outputs": [],
   "source": [
    "from graphlib import CycleError\n",
    "\n",
    "try:\n",
    "    sorter.prepare()\n",
    "except CycleError as e:\n",
    "    print(\"Обнаружен цикл:\", e.args[1])"
   ]
  },
  {
   "cell_type": "markdown",
   "metadata": {
    "id": "NHd5X3YEjCfl"
   },
   "source": [
    "### Итеративная обработка\n",
    "\n",
    "Код позволяет выполнять задачи в порядке их готовности. Задачи добавляются в очередь, и обработка продолжается до тех пор, пока все задачи не будут завершены."
   ]
  },
  {
   "cell_type": "code",
   "execution_count": null,
   "metadata": {
    "id": "4_jejey-kbLj"
   },
   "outputs": [],
   "source": [
    "sorter.prepare()\n",
    "while sorter.is_active():\n",
    "    for task in sorter.get_ready():\n",
    "        print(f\"Обрабатывается задача: {task}\")\n",
    "        sorter.done(task)"
   ]
  },
  {
   "cell_type": "markdown",
   "metadata": {
    "id": "s5_4exPVkdKK"
   },
   "source": [
    "Метод is_active() возвращает true, если обработка графа может продолжаться, а это значит, что существуют узлы, готовые к обработке (их можно получить с помощью get_ready()) или общее кол-во узлов, помеченные как завершенные (через done())), меньше числа узлов, которые были возвращены вызовом get_ready()\n",
    "\n",
    "Eсли граф полностью обработан или его дальше невозможно обработать, например, из-за циклов то метод вернет False\n",
    "\n",
    "Метод get_ready() возвращает кордеж узлов, которые готовы к выполнению. Узел считается готовым, если все его предшественники уже были помечены как готовые через done() или у него нет предшественников."
   ]
  },
  {
   "cell_type": "markdown",
   "metadata": {
    "id": "PrffjcQ9mGZl"
   },
   "source": [
    "### Статический порядок\n",
    "\n",
    "Метод static_order() позволяет обойти (перебрать) узлы графа в порядке топологической сортировки, то есть так, чтобы каждая зависимость появлялась раньше тех узлов, которые от неё зависят. Этот метод возвращает специальный объект — итератор, который можно использовать в цикле или преобразовать в список.\n",
    "\n",
    "Вот так можно представить его в виде кода. то есть вы можете просто использовать метод, а всё остальное метод сделает за вас."
   ]
  },
  {
   "cell_type": "code",
   "execution_count": 28,
   "metadata": {
    "id": "eIEu6gM_mK4w"
   },
   "outputs": [],
   "source": [
    "def static_order(self):\n",
    "    self.prepare()  # Подготавливаем граф\n",
    "    while self.is_active():  # Пока есть узлы для обработки\n",
    "        node_group = self.get_ready()  # Получаем доступные узлы\n",
    "        yield from node_group  # Возвращаем узлы по одному\n",
    "        self.done(*node_group)  # Отмечаем, что эти узлы обработаны"
   ]
  },
  {
   "cell_type": "markdown",
   "metadata": {
    "id": "5R4SlCrZnTlb"
   },
   "source": [
    "Если в графе есть несколько узлов на одном уровне (например, они не зависят друг от друга), то порядок их возврата зависит от того, в каком порядке они были добавлены в граф. Посмотрим на два примера:"
   ]
  },
  {
   "cell_type": "code",
   "execution_count": 32,
   "metadata": {
    "colab": {
     "base_uri": "https://localhost:8080/"
    },
    "id": "_mmFSubbnb9G",
    "outputId": "65afa832-a241-419d-c9ab-fcbdfc87940d"
   },
   "outputs": [
    {
     "name": "stdout",
     "output_type": "stream",
     "text": [
      "[2, 0, 1, 3]\n",
      "[0, 2, 1, 3]\n"
     ]
    }
   ],
   "source": [
    "from graphlib import TopologicalSorter\n",
    "\n",
    "# Пример 1\n",
    "ts = TopologicalSorter()\n",
    "ts.add(3, 2, 1)  # Узел 3 зависит от 2 и 1\n",
    "ts.add(1, 0)  # Узел 1 зависит от 0\n",
    "print([*ts.static_order()])  # Печатаем порядок обхода графа\n",
    "# Результат: [2, 0, 1, 3]\n",
    "\n",
    "# Пример 2\n",
    "ts2 = TopologicalSorter()\n",
    "ts2.add(1, 0)  # Узел 1 зависит от 0\n",
    "ts2.add(3, 2, 1)  # Узел 3 зависит от 2 и 1\n",
    "print([*ts2.static_order()])\n",
    "# Результат: [0, 2, 1, 3]\n"
   ]
  },
  {
   "cell_type": "markdown",
   "metadata": {
    "id": "a4MdCMEEmX-1"
   },
   "source": [
    "## Исключения в Graphlib\n",
    "\n",
    "1.   ValueError — это исключение, которое возникает в Python, когда функция получает аргумент правильного типа, но значение этого аргумента не подходит для выполнения операции.\n",
    "В библиотеке Graphlib ValueError может возникнуть, если мы пытаемс добавить узлы или зависимости, которые не соответствуют ожиданиям для корректной работы графа. Например, если мы добавили зависимости от несуществующих узлов.\n",
    "2.   CycleError — это подкласс ValueError, который возникает в библиотеке Graphlib, когда граф содержит цикл. Цикл — это ситуация, когда узлы графа взаимно зависят друг от друга, что делает невозможным упорядочение их без нарушения зависимостей.\n",
    "\n"
   ]
  },
  {
   "cell_type": "markdown",
   "metadata": {
    "id": "o0_HaZylpCjU"
   },
   "source": [
    "## Примеры\n",
    "\n",
    "### Планировщик задач"
   ]
  },
  {
   "cell_type": "code",
   "execution_count": 33,
   "metadata": {
    "colab": {
     "base_uri": "https://localhost:8080/"
    },
    "id": "V6_EE7ybpKEj",
    "outputId": "179fe46f-045b-4d8e-95cb-18eb3e7aeb4b"
   },
   "outputs": [
    {
     "name": "stdout",
     "output_type": "stream",
     "text": [
      "Порядок выполнения: ('Подготовка корпуса', 'Установка процессора', 'Установка оперативной памяти', 'Сборка ПК')\n"
     ]
    }
   ],
   "source": [
    "tasks = {\n",
    "    \"Сборка ПК\": {\"Установка процессора\", \"Установка оперативной памяти\"},\n",
    "    \"Установка процессора\": {\"Подготовка корпуса\"},\n",
    "    \"Установка оперативной памяти\": {\"Подготовка корпуса\"}\n",
    "}\n",
    "sorter = TopologicalSorter(tasks)\n",
    "print(\"Порядок выполнения:\", tuple(sorter.static_order()))"
   ]
  },
  {
   "cell_type": "markdown",
   "metadata": {
    "id": "PYIbiwVaqUU1"
   },
   "source": [
    "### Рекомендательная система для крусов обучения"
   ]
  },
  {
   "cell_type": "code",
   "execution_count": 35,
   "metadata": {
    "colab": {
     "base_uri": "https://localhost:8080/"
    },
    "id": "H-v04HFoqXoi",
    "outputId": "93acd819-9382-4821-ec7e-7cf5c06710d2"
   },
   "outputs": [
    {
     "name": "stdout",
     "output_type": "stream",
     "text": [
      "Рекомендуемый порядок изучения курсов: ['Основы алгебры', 'Программирование на Python 1', 'Математический анализ', 'Программирование на Python 2', 'Машинное обучение']\n"
     ]
    }
   ],
   "source": [
    "from graphlib import TopologicalSorter\n",
    "\n",
    "courses = {\n",
    "    \"Машинное обучение\": {\"Математический анализ\", \"Программирование на Python 2\"},\n",
    "    \"Математический анализ\": {\"Основы алгебры\"},\n",
    "    \"Программирование на Python 2\": {\"Программирование на Python 1\"},\n",
    "    \"Программирование на Python 1\": set(),\n",
    "    \"Основы алгебры\": set(),\n",
    "}\n",
    "\n",
    "sorter = TopologicalSorter(courses)\n",
    "learning_path = list(sorter.static_order())\n",
    "print(\"Рекомендуемый порядок изучения курсов:\", learning_path)\n"
   ]
  },
  {
   "cell_type": "markdown",
   "metadata": {
    "id": "y1Ybk6idq4-7"
   },
   "source": [
    "### Сценарий квеста"
   ]
  },
  {
   "cell_type": "code",
   "execution_count": 39,
   "metadata": {
    "colab": {
     "base_uri": "https://localhost:8080/"
    },
    "id": "ttsDuC1oq9pw",
    "outputId": "ff868fc5-aea3-49d3-95a6-2beac7d92618"
   },
   "outputs": [
    {
     "name": "stdout",
     "output_type": "stream",
     "text": [
      "Ваш сценарий квеста:\n",
      "- Найти магический артефакт\n",
      "- Победить призраков\n",
      "- Активировать тайный механизм\n",
      "- Открыть проход к трону\n",
      "- Исследовать подземелье\n",
      "- Найти секретный ключ\n",
      "- Собрать целебные зелья\n",
      "- Войти в замок\n",
      "- Найти карту лабиринта\n",
      "- Добраться до сокровищницы\n",
      "- Завершить квест\n"
     ]
    }
   ],
   "source": [
    "quest_stages = {\n",
    "    \"Войти в замок\": {\"Найти секретный ключ\"},\n",
    "    \"Найти секретный ключ\": {\"Исследовать подземелье\"},\n",
    "    \"Исследовать подземелье\": {\"Победить призраков\", \"Открыть проход к трону\"},\n",
    "    \"Победить призраков\": {\"Найти магический артефакт\"},\n",
    "    \"Открыть проход к трону\": {\"Активировать тайный механизм\"},\n",
    "    \"Активировать тайный механизм\": {\"Найти магический артефакт\"},\n",
    "    \"Найти магический артефакт\": set(),\n",
    "    \"Добраться до сокровищницы\": {\"Войти в замок\", \"Открыть проход к трону\"},\n",
    "    \"Собрать целебные зелья\": {\"Исследовать подземелье\"},\n",
    "    \"Найти карту лабиринта\": {\"Найти секретный ключ\"},\n",
    "    \"Завершить квест\": {\"Добраться до сокровищницы\", \"Собрать целебные зелья\", \"Найти карту лабиринта\"},\n",
    "}\n",
    "\n",
    "sorter = TopologicalSorter(quest_stages)\n",
    "quest_order = list(sorter.static_order())\n",
    "\n",
    "print(\"Ваш сценарий квеста:\")\n",
    "for step in quest_order:\n",
    "    print(f\"- {step}\")\n"
   ]
  },
  {
   "cell_type": "markdown",
   "metadata": {
    "id": "IJIsLl5Ard1k"
   },
   "source": [
    "### Подготовка к коллоку по матану"
   ]
  },
  {
   "cell_type": "code",
   "execution_count": 44,
   "metadata": {
    "colab": {
     "base_uri": "https://localhost:8080/"
    },
    "id": "KRKTGcwBrWT7",
    "outputId": "ebc2d6f0-9f47-4d56-b872-d38c4192e9a6"
   },
   "outputs": [
    {
     "name": "stdout",
     "output_type": "stream",
     "text": [
      "Реалистичный порядок подготовки к коллоквиуму:\n",
      "1. Выпить кофе\n",
      "2. Основы анализа\n",
      "3. Пределы функций\n",
      "4. Производные\n",
      "5. Пределы последовательностей\n",
      "6. Поплакать над задачей\n",
      "7. Сходимость\n",
      "8. Посмотреть объяснение индуса на YouTube\n",
      "9. Числовые ряды\n",
      "10. Снова попробовать решить задачу\n",
      "11. Интегралы Римана\n",
      "12. Выдохнуть и пойти спать\n"
     ]
    }
   ],
   "source": [
    "from graphlib import TopologicalSorter\n",
    "\n",
    "# Темы и действия\n",
    "prep_process = {\n",
    "    \"Выпить кофе\": set(),\n",
    "    \"Основы анализа\": {\"Выпить кофе\"},\n",
    "    \"Пределы функций\": {\"Основы анализа\"},\n",
    "    \"Производные\": {\"Основы анализа\"},\n",
    "    \"Поплакать над задачей\": {\"Пределы функций\", \"Производные\"},\n",
    "    \"Посмотреть объяснение индуса на YouTube\": {\"Поплакать над задачей\"},\n",
    "    \"Снова попробовать решить задачу\": {\"Посмотреть объяснение индуса на YouTube\"},\n",
    "    \"Пределы последовательностей\": {\"Основы анализа\"},\n",
    "    \"Сходимость\": {\"Пределы последовательностей\"},\n",
    "    \"Числовые ряды\": {\"Сходимость\"},\n",
    "    \"Интегралы Римана\": {\"Производные\", \"Числовые ряды\"},\n",
    "    \"Выдохнуть и пойти спать\": {\"Интегралы Римана\", \"Снова попробовать решить задачу\"},\n",
    "}\n",
    "\n",
    "# создаем топологический сортировщик\n",
    "sorter = TopologicalSorter(prep_process)\n",
    "\n",
    "# Генерим порядок подготовки\n",
    "study_order = list(sorter.static_order())\n",
    "\n",
    "# выводим порядок подготовки\n",
    "print(\"Реалистичный порядок подготовки к коллоквиуму:\")\n",
    "for i, step in enumerate(study_order, 1):\n",
    "    print(f\"{i}. {step}\")\n"
   ]
  }
 ],
 "metadata": {
  "colab": {
   "provenance": []
  },
  "kernelspec": {
   "display_name": "Python 3",
   "name": "python3"
  },
  "language_info": {
   "name": "python"
  }
 },
 "nbformat": 4,
 "nbformat_minor": 0
}
